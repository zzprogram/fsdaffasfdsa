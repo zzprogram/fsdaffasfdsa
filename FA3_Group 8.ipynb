{
 "cells": [
  {
   "cell_type": "markdown",
   "id": "1ee8ee80",
   "metadata": {},
   "source": [
    "1. The volume of a sphere with radius r is 43πr3. What is the volume of a sphere with radius 5?"
   ]
  },
  {
   "cell_type": "code",
   "execution_count": 7,
   "id": "9a590437",
   "metadata": {},
   "outputs": [
    {
     "name": "stdout",
     "output_type": "stream",
     "text": [
      "volume of a sphere with radius 5:  523.5987755982989\n"
     ]
    }
   ],
   "source": [
    "pi = 3.1415926535897931\n",
    "r = 5.0\n",
    "v = 4.0/3.0 *pi*r**3\n",
    "print(\"volume of a sphere with radius 5: \", (v))"
   ]
  },
  {
   "cell_type": "markdown",
   "id": "5eba26ed",
   "metadata": {},
   "source": [
    "2. Suppose the cover price of a book is 24.95 dollar,but bookstores get a 40 percent discount. Shipping costs 3 dollar for the first copy and 75 cents for each additional copy. What is the total wholesale cost for 60 copies?"
   ]
  },
  {
   "cell_type": "code",
   "execution_count": 8,
   "id": "9383b8b7",
   "metadata": {},
   "outputs": [],
   "source": [
    "price = 24.95*(1-0.4)\n",
    "ship_cost = 3\n",
    "add_copy = 75\n",
    "copies = 60 \n",
    "\n",
    "book_price = price*(1-disc)\n",
    "add_ship_cost = 75*(copies-1)\n"
   ]
  },
  {
   "cell_type": "code",
   "execution_count": null,
   "id": "aad04fca",
   "metadata": {},
   "outputs": [],
   "source": []
  },
  {
   "cell_type": "code",
   "execution_count": null,
   "id": "41ca6857",
   "metadata": {},
   "outputs": [],
   "source": []
  }
 ],
 "metadata": {
  "kernelspec": {
   "display_name": "Python 3 (ipykernel)",
   "language": "python",
   "name": "python3"
  },
  "language_info": {
   "codemirror_mode": {
    "name": "ipython",
    "version": 3
   },
   "file_extension": ".py",
   "mimetype": "text/x-python",
   "name": "python",
   "nbconvert_exporter": "python",
   "pygments_lexer": "ipython3",
   "version": "3.9.13"
  }
 },
 "nbformat": 4,
 "nbformat_minor": 5
}
