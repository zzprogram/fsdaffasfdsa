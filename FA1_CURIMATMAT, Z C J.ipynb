{
 "cells": [
  {
   "cell_type": "markdown",
   "id": "9075b6a0",
   "metadata": {},
   "source": [
    "# How many seconds are there in 42 minutes 42 seconds?"
   ]
  },
  {
   "cell_type": "code",
   "execution_count": 1,
   "id": "c2253b78",
   "metadata": {},
   "outputs": [
    {
     "name": "stdout",
     "output_type": "stream",
     "text": [
      "2562 seconds\n"
     ]
    }
   ],
   "source": [
    "seconds = (42*60) + 42\n",
    "print(seconds, \"seconds\")"
   ]
  },
  {
   "cell_type": "markdown",
   "id": "ab997222",
   "metadata": {},
   "source": [
    "# How many miles are there in 10 kilometers? Hint: there are 1.61 kilometers in a mile."
   ]
  },
  {
   "cell_type": "code",
   "execution_count": 2,
   "id": "6f2065d3",
   "metadata": {},
   "outputs": [
    {
     "name": "stdout",
     "output_type": "stream",
     "text": [
      "6.21 miles\n"
     ]
    }
   ],
   "source": [
    "miles = 10/1.61 \n",
    "print(\"%.02f miles\" %(miles))"
   ]
  },
  {
   "cell_type": "markdown",
   "id": "bd17f1db",
   "metadata": {},
   "source": [
    "# If you run a 10 kilometer race in 42 minutes 42 seconds, what is your average pace (time per mile in minutes and seconds)? What is your average speed in miles per hour?"
   ]
  },
  {
   "cell_type": "code",
   "execution_count": 3,
   "id": "3dbf1ecf",
   "metadata": {},
   "outputs": [
    {
     "name": "stdout",
     "output_type": "stream",
     "text": [
      "6 : 52 in 6.21 miles\n",
      "8.73 mph\n"
     ]
    }
   ],
   "source": [
    "seconds = (42*60) + 42\n",
    "miles = 10/1.61 \n",
    "hours = (2562/60)/60\n",
    "pace = seconds/miles\n",
    "minutes = pace//60\n",
    "s = pace-(minutes*60)\n",
    "print(\"%d : %d in 6.21 miles\" %(minutes, s))\n",
    "speed = miles/hours\n",
    "print(\"%.02f mph\" %(speed))"
   ]
  },
  {
   "cell_type": "code",
   "execution_count": null,
   "id": "ac7f5869",
   "metadata": {},
   "outputs": [],
   "source": []
  }
 ],
 "metadata": {
  "kernelspec": {
   "display_name": "Python 3 (ipykernel)",
   "language": "python",
   "name": "python3"
  },
  "language_info": {
   "codemirror_mode": {
    "name": "ipython",
    "version": 3
   },
   "file_extension": ".py",
   "mimetype": "text/x-python",
   "name": "python",
   "nbconvert_exporter": "python",
   "pygments_lexer": "ipython3",
   "version": "3.11.5"
  }
 },
 "nbformat": 4,
 "nbformat_minor": 5
}
